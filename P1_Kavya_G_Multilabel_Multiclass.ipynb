{
  "nbformat": 4,
  "nbformat_minor": 0,
  "metadata": {
    "colab": {
      "name": "multilabel-multiclass",
      "provenance": [],
      "collapsed_sections": [],
      "toc_visible": true,
      "machine_shape": "hm"
    },
    "kernelspec": {
      "name": "python3",
      "display_name": "Python 3"
    },
    "accelerator": "TPU"
  },
  "cells": [
    {
      "cell_type": "code",
      "metadata": {
        "id": "_ZPSDMSfXnc6",
        "colab_type": "code",
        "colab": {}
      },
      "source": [
        "%tensorflow_version 2.x"
      ],
      "execution_count": 0,
      "outputs": []
    },
    {
      "cell_type": "code",
      "metadata": {
        "id": "J_fe8e5lQovi",
        "colab_type": "code",
        "outputId": "a1a9f84e-b01f-44d0-8c64-57024999f55d",
        "colab": {
          "base_uri": "https://localhost:8080/",
          "height": 440
        }
      },
      "source": [
        "!wget https://www.dropbox.com/s/5721wcs2guuykzl/stacksample.zip?dl=0"
      ],
      "execution_count": 0,
      "outputs": [
        {
          "output_type": "stream",
          "text": [
            "--2020-04-22 13:52:24--  https://www.dropbox.com/s/5721wcs2guuykzl/stacksample.zip?dl=0\n",
            "Resolving www.dropbox.com (www.dropbox.com)... 162.125.3.1, 2620:100:601b:1::a27d:801\n",
            "Connecting to www.dropbox.com (www.dropbox.com)|162.125.3.1|:443... connected.\n",
            "HTTP request sent, awaiting response... 301 Moved Permanently\n",
            "Location: /s/raw/5721wcs2guuykzl/stacksample.zip [following]\n",
            "--2020-04-22 13:52:24--  https://www.dropbox.com/s/raw/5721wcs2guuykzl/stacksample.zip\n",
            "Reusing existing connection to www.dropbox.com:443.\n",
            "HTTP request sent, awaiting response... 302 Found\n",
            "Location: https://uc3420e967ecd0c2cef05f38326b.dl.dropboxusercontent.com/cd/0/inline/A2XGEef7JdlZk3vDsH9XYU8O0Qo3A_sgPofaJ9ypkO_CDzV_Ru3RJIiGvhqoZN8uFGmfMi187otfoftejJi5hG0s1vkCRO6NRMePcGO_VhR__A/file# [following]\n",
            "--2020-04-22 13:52:25--  https://uc3420e967ecd0c2cef05f38326b.dl.dropboxusercontent.com/cd/0/inline/A2XGEef7JdlZk3vDsH9XYU8O0Qo3A_sgPofaJ9ypkO_CDzV_Ru3RJIiGvhqoZN8uFGmfMi187otfoftejJi5hG0s1vkCRO6NRMePcGO_VhR__A/file\n",
            "Resolving uc3420e967ecd0c2cef05f38326b.dl.dropboxusercontent.com (uc3420e967ecd0c2cef05f38326b.dl.dropboxusercontent.com)... 162.125.3.6, 2620:100:601b:6::a27d:806\n",
            "Connecting to uc3420e967ecd0c2cef05f38326b.dl.dropboxusercontent.com (uc3420e967ecd0c2cef05f38326b.dl.dropboxusercontent.com)|162.125.3.6|:443... connected.\n",
            "HTTP request sent, awaiting response... 302 FOUND\n",
            "Location: /cd/0/inline2/A2Vydhq2Ers0onxvpss7Oj8xbwefh7KNzV8zG_oQJ4f7SkJ3oKFB35R7jt2Cp9N-QBSQ8D75N-9u3Nl5FMxMYSxEZ68Za0UnvClAmDoRdWgIiH0ZknuQdbGm668mLvXPgLN1kJ2FHL4pr1H0XGKsP5CgoJ113ErWgBd20wkAXB0PmsUeavyVLK8VKofMnlrAJ1UpZvJk7Q1kxjrdwyRWRVUpIpv877CcoMcdoHohk_Z4EWAUfjvavZLayVk3p5tKVXczNwp6IX5jp_HD5UQiTLZiIZdOx6VryjNRaaPrRmSdAdmUrt4Zgr4XMJdtapMcAYGsDSthtHUd_1DdMBg1miE2/file [following]\n",
            "--2020-04-22 13:52:25--  https://uc3420e967ecd0c2cef05f38326b.dl.dropboxusercontent.com/cd/0/inline2/A2Vydhq2Ers0onxvpss7Oj8xbwefh7KNzV8zG_oQJ4f7SkJ3oKFB35R7jt2Cp9N-QBSQ8D75N-9u3Nl5FMxMYSxEZ68Za0UnvClAmDoRdWgIiH0ZknuQdbGm668mLvXPgLN1kJ2FHL4pr1H0XGKsP5CgoJ113ErWgBd20wkAXB0PmsUeavyVLK8VKofMnlrAJ1UpZvJk7Q1kxjrdwyRWRVUpIpv877CcoMcdoHohk_Z4EWAUfjvavZLayVk3p5tKVXczNwp6IX5jp_HD5UQiTLZiIZdOx6VryjNRaaPrRmSdAdmUrt4Zgr4XMJdtapMcAYGsDSthtHUd_1DdMBg1miE2/file\n",
            "Reusing existing connection to uc3420e967ecd0c2cef05f38326b.dl.dropboxusercontent.com:443.\n",
            "HTTP request sent, awaiting response... 200 OK\n",
            "Length: 1231288519 (1.1G) [application/zip]\n",
            "Saving to: ‘stacksample.zip?dl=0’\n",
            "\n",
            "stacksample.zip?dl= 100%[===================>]   1.15G  51.5MB/s    in 25s     \n",
            "\n",
            "2020-04-22 13:52:51 (46.4 MB/s) - ‘stacksample.zip?dl=0’ saved [1231288519/1231288519]\n",
            "\n"
          ],
          "name": "stdout"
        }
      ]
    },
    {
      "cell_type": "code",
      "metadata": {
        "id": "ukTyzKy1RIu3",
        "colab_type": "code",
        "outputId": "e158dab2-d76e-48cb-f8fa-41645bc18f88",
        "colab": {
          "base_uri": "https://localhost:8080/",
          "height": 84
        }
      },
      "source": [
        "!unzip /content/stacksample.zip?dl=0"
      ],
      "execution_count": 0,
      "outputs": [
        {
          "output_type": "stream",
          "text": [
            "Archive:  /content/stacksample.zip?dl=0\n",
            "  inflating: Answers.csv             \n",
            "  inflating: Questions.csv           \n",
            "  inflating: Tags.csv                \n"
          ],
          "name": "stdout"
        }
      ]
    },
    {
      "cell_type": "code",
      "metadata": {
        "id": "5InlE7-qXxKI",
        "colab_type": "code",
        "colab": {}
      },
      "source": [
        "import pandas as pd\n",
        "import numpy as np\n",
        "from sklearn.model_selection import train_test_split\n",
        "from nltk import word_tokenize\n",
        "from tensorflow.keras.preprocessing.text import Tokenizer\n",
        "from tensorflow.keras.preprocessing import sequence\n",
        "from tensorflow.keras.layers import LSTM, Activation, Dense, Dropout, Input, Embedding\n",
        "from tensorflow.keras.models import Model"
      ],
      "execution_count": 0,
      "outputs": []
    },
    {
      "cell_type": "markdown",
      "metadata": {
        "id": "UmPh15l5X6hD",
        "colab_type": "text"
      },
      "source": [
        "# **# Top10 Tags**"
      ]
    },
    {
      "cell_type": "code",
      "metadata": {
        "id": "zjEAhcXzXxMD",
        "colab_type": "code",
        "colab": {}
      },
      "source": [
        "file='Tags.csv'"
      ],
      "execution_count": 0,
      "outputs": []
    },
    {
      "cell_type": "code",
      "metadata": {
        "id": "IdKSl_AOXxOI",
        "colab_type": "code",
        "colab": {}
      },
      "source": [
        "tags=pd.read_csv(file)"
      ],
      "execution_count": 0,
      "outputs": []
    },
    {
      "cell_type": "code",
      "metadata": {
        "id": "gvN8VXRs1HWh",
        "colab_type": "code",
        "outputId": "e8283049-f534-4871-9e8f-df3cb44d4b05",
        "colab": {
          "base_uri": "https://localhost:8080/",
          "height": 34
        }
      },
      "source": [
        "tags.head()\n",
        "tags.shape"
      ],
      "execution_count": 0,
      "outputs": [
        {
          "output_type": "execute_result",
          "data": {
            "text/plain": [
              "(3750994, 2)"
            ]
          },
          "metadata": {
            "tags": []
          },
          "execution_count": 8
        }
      ]
    },
    {
      "cell_type": "code",
      "metadata": {
        "id": "ufmxSdyJXxPo",
        "colab_type": "code",
        "colab": {}
      },
      "source": [
        "top10tags=tags['Tag'].value_counts()[:10]"
      ],
      "execution_count": 0,
      "outputs": []
    },
    {
      "cell_type": "code",
      "metadata": {
        "id": "Ytud31vIXxRN",
        "colab_type": "code",
        "colab": {}
      },
      "source": [
        "list10=top10tags.index.to_list()"
      ],
      "execution_count": 0,
      "outputs": []
    },
    {
      "cell_type": "code",
      "metadata": {
        "id": "TYtJ6fxPXxS-",
        "colab_type": "code",
        "colab": {}
      },
      "source": [
        "tags_final=tags[tags['Tag'].isin(list10)]"
      ],
      "execution_count": 0,
      "outputs": []
    },
    {
      "cell_type": "code",
      "metadata": {
        "id": "ZfrP6ObuXxW8",
        "colab_type": "code",
        "outputId": "ad7648a4-641b-492f-b656-430d37ceb402",
        "colab": {
          "base_uri": "https://localhost:8080/",
          "height": 34
        }
      },
      "source": [
        "tags_final.shape\n",
        "#tags_final['Id'].value_counts().head(100)"
      ],
      "execution_count": 0,
      "outputs": [
        {
          "output_type": "execute_result",
          "data": {
            "text/plain": [
              "(826739, 2)"
            ]
          },
          "metadata": {
            "tags": []
          },
          "execution_count": 12
        }
      ]
    },
    {
      "cell_type": "code",
      "metadata": {
        "id": "7nWB5bM9XxVA",
        "colab_type": "code",
        "colab": {}
      },
      "source": [
        "df = tags_final.groupby(['Id'])['Tag'].apply(','.join).reset_index()"
      ],
      "execution_count": 0,
      "outputs": []
    },
    {
      "cell_type": "code",
      "metadata": {
        "id": "Cjug-mgAXxYg",
        "colab_type": "code",
        "outputId": "df998460-5faa-43f4-9823-a09a7b6f16a1",
        "colab": {
          "base_uri": "https://localhost:8080/",
          "height": 77
        }
      },
      "source": [
        "df[df['Id']==36283520]"
      ],
      "execution_count": 0,
      "outputs": [
        {
          "output_type": "execute_result",
          "data": {
            "text/html": [
              "<div>\n",
              "<style scoped>\n",
              "    .dataframe tbody tr th:only-of-type {\n",
              "        vertical-align: middle;\n",
              "    }\n",
              "\n",
              "    .dataframe tbody tr th {\n",
              "        vertical-align: top;\n",
              "    }\n",
              "\n",
              "    .dataframe thead th {\n",
              "        text-align: right;\n",
              "    }\n",
              "</style>\n",
              "<table border=\"1\" class=\"dataframe\">\n",
              "  <thead>\n",
              "    <tr style=\"text-align: right;\">\n",
              "      <th></th>\n",
              "      <th>Id</th>\n",
              "      <th>Tag</th>\n",
              "    </tr>\n",
              "  </thead>\n",
              "  <tbody>\n",
              "    <tr>\n",
              "      <th>625539</th>\n",
              "      <td>36283520</td>\n",
              "      <td>javascript,android,jquery,ios</td>\n",
              "    </tr>\n",
              "  </tbody>\n",
              "</table>\n",
              "</div>"
            ],
            "text/plain": [
              "              Id                            Tag\n",
              "625539  36283520  javascript,android,jquery,ios"
            ]
          },
          "metadata": {
            "tags": []
          },
          "execution_count": 14
        }
      ]
    },
    {
      "cell_type": "code",
      "metadata": {
        "id": "Fd-RMOpVXxaQ",
        "colab_type": "code",
        "outputId": "93633352-fbea-40cf-83ce-91267b48d75d",
        "colab": {
          "base_uri": "https://localhost:8080/",
          "height": 34
        }
      },
      "source": [
        "df.shape"
      ],
      "execution_count": 0,
      "outputs": [
        {
          "output_type": "execute_result",
          "data": {
            "text/plain": [
              "(706336, 2)"
            ]
          },
          "metadata": {
            "tags": []
          },
          "execution_count": 15
        }
      ]
    },
    {
      "cell_type": "code",
      "metadata": {
        "id": "x6ikEZ4JXxcB",
        "colab_type": "code",
        "colab": {}
      },
      "source": [
        "df['Tag']=df['Tag'].str.split(\",\")"
      ],
      "execution_count": 0,
      "outputs": []
    },
    {
      "cell_type": "markdown",
      "metadata": {
        "id": "ZRYxXLqtLm5o",
        "colab_type": "text"
      },
      "source": [
        "# ***questions***"
      ]
    },
    {
      "cell_type": "code",
      "metadata": {
        "id": "JcLtRX-SXxfw",
        "colab_type": "code",
        "colab": {}
      },
      "source": [
        "ques=pd.read_csv('Questions.csv',encoding='iso-8859-1')"
      ],
      "execution_count": 0,
      "outputs": []
    },
    {
      "cell_type": "code",
      "metadata": {
        "id": "NLcobKLVLqde",
        "colab_type": "code",
        "outputId": "8d8b7779-0aa6-4aa1-fd5f-f36e298c05c8",
        "colab": {
          "base_uri": "https://localhost:8080/",
          "height": 279
        }
      },
      "source": [
        "ques.head()"
      ],
      "execution_count": 0,
      "outputs": [
        {
          "output_type": "execute_result",
          "data": {
            "text/html": [
              "<div>\n",
              "<style scoped>\n",
              "    .dataframe tbody tr th:only-of-type {\n",
              "        vertical-align: middle;\n",
              "    }\n",
              "\n",
              "    .dataframe tbody tr th {\n",
              "        vertical-align: top;\n",
              "    }\n",
              "\n",
              "    .dataframe thead th {\n",
              "        text-align: right;\n",
              "    }\n",
              "</style>\n",
              "<table border=\"1\" class=\"dataframe\">\n",
              "  <thead>\n",
              "    <tr style=\"text-align: right;\">\n",
              "      <th></th>\n",
              "      <th>Id</th>\n",
              "      <th>OwnerUserId</th>\n",
              "      <th>CreationDate</th>\n",
              "      <th>ClosedDate</th>\n",
              "      <th>Score</th>\n",
              "      <th>Title</th>\n",
              "      <th>Body</th>\n",
              "    </tr>\n",
              "  </thead>\n",
              "  <tbody>\n",
              "    <tr>\n",
              "      <th>0</th>\n",
              "      <td>80</td>\n",
              "      <td>26.0</td>\n",
              "      <td>2008-08-01T13:57:07Z</td>\n",
              "      <td>NaN</td>\n",
              "      <td>26</td>\n",
              "      <td>SQLStatement.execute() - multiple queries in o...</td>\n",
              "      <td>&lt;p&gt;I've written a database generation script i...</td>\n",
              "    </tr>\n",
              "    <tr>\n",
              "      <th>1</th>\n",
              "      <td>90</td>\n",
              "      <td>58.0</td>\n",
              "      <td>2008-08-01T14:41:24Z</td>\n",
              "      <td>2012-12-26T03:45:49Z</td>\n",
              "      <td>144</td>\n",
              "      <td>Good branching and merging tutorials for Torto...</td>\n",
              "      <td>&lt;p&gt;Are there any really good tutorials explain...</td>\n",
              "    </tr>\n",
              "    <tr>\n",
              "      <th>2</th>\n",
              "      <td>120</td>\n",
              "      <td>83.0</td>\n",
              "      <td>2008-08-01T15:50:08Z</td>\n",
              "      <td>NaN</td>\n",
              "      <td>21</td>\n",
              "      <td>ASP.NET Site Maps</td>\n",
              "      <td>&lt;p&gt;Has anyone got experience creating &lt;strong&gt;...</td>\n",
              "    </tr>\n",
              "    <tr>\n",
              "      <th>3</th>\n",
              "      <td>180</td>\n",
              "      <td>2089740.0</td>\n",
              "      <td>2008-08-01T18:42:19Z</td>\n",
              "      <td>NaN</td>\n",
              "      <td>53</td>\n",
              "      <td>Function for creating color wheels</td>\n",
              "      <td>&lt;p&gt;This is something I've pseudo-solved many t...</td>\n",
              "    </tr>\n",
              "    <tr>\n",
              "      <th>4</th>\n",
              "      <td>260</td>\n",
              "      <td>91.0</td>\n",
              "      <td>2008-08-01T23:22:08Z</td>\n",
              "      <td>NaN</td>\n",
              "      <td>49</td>\n",
              "      <td>Adding scripting functionality to .NET applica...</td>\n",
              "      <td>&lt;p&gt;I have a little game written in C#. It uses...</td>\n",
              "    </tr>\n",
              "  </tbody>\n",
              "</table>\n",
              "</div>"
            ],
            "text/plain": [
              "    Id  ...                                               Body\n",
              "0   80  ...  <p>I've written a database generation script i...\n",
              "1   90  ...  <p>Are there any really good tutorials explain...\n",
              "2  120  ...  <p>Has anyone got experience creating <strong>...\n",
              "3  180  ...  <p>This is something I've pseudo-solved many t...\n",
              "4  260  ...  <p>I have a little game written in C#. It uses...\n",
              "\n",
              "[5 rows x 7 columns]"
            ]
          },
          "metadata": {
            "tags": []
          },
          "execution_count": 18
        }
      ]
    },
    {
      "cell_type": "code",
      "metadata": {
        "id": "eQ3aZjv0Lqjg",
        "colab_type": "code",
        "colab": {}
      },
      "source": [
        "ques.drop(['OwnerUserId','CreationDate','ClosedDate','Score'],axis=1,inplace=True)"
      ],
      "execution_count": 0,
      "outputs": []
    },
    {
      "cell_type": "code",
      "metadata": {
        "id": "Mvq0gPluLqpr",
        "colab_type": "code",
        "colab": {}
      },
      "source": [
        "import re \n",
        "\n",
        "def rem_html_tags(body):\n",
        "    regex = re.compile('<.*?>')\n",
        "    return re.sub(regex, '',body)\n",
        "\n"
      ],
      "execution_count": 0,
      "outputs": []
    },
    {
      "cell_type": "code",
      "metadata": {
        "id": "Xj0QH4sVLqoI",
        "colab_type": "code",
        "outputId": "ffc25d6c-71ff-45a2-e111-601619bc9426",
        "colab": {
          "base_uri": "https://localhost:8080/",
          "height": 195
        }
      },
      "source": [
        "ques['Body'] = ques['Body'].apply(rem_html_tags)\n",
        "ques.head()"
      ],
      "execution_count": 0,
      "outputs": [
        {
          "output_type": "execute_result",
          "data": {
            "text/html": [
              "<div>\n",
              "<style scoped>\n",
              "    .dataframe tbody tr th:only-of-type {\n",
              "        vertical-align: middle;\n",
              "    }\n",
              "\n",
              "    .dataframe tbody tr th {\n",
              "        vertical-align: top;\n",
              "    }\n",
              "\n",
              "    .dataframe thead th {\n",
              "        text-align: right;\n",
              "    }\n",
              "</style>\n",
              "<table border=\"1\" class=\"dataframe\">\n",
              "  <thead>\n",
              "    <tr style=\"text-align: right;\">\n",
              "      <th></th>\n",
              "      <th>Id</th>\n",
              "      <th>Title</th>\n",
              "      <th>Body</th>\n",
              "    </tr>\n",
              "  </thead>\n",
              "  <tbody>\n",
              "    <tr>\n",
              "      <th>0</th>\n",
              "      <td>80</td>\n",
              "      <td>SQLStatement.execute() - multiple queries in o...</td>\n",
              "      <td>I've written a database generation script in S...</td>\n",
              "    </tr>\n",
              "    <tr>\n",
              "      <th>1</th>\n",
              "      <td>90</td>\n",
              "      <td>Good branching and merging tutorials for Torto...</td>\n",
              "      <td>Are there any really good tutorials explaining...</td>\n",
              "    </tr>\n",
              "    <tr>\n",
              "      <th>2</th>\n",
              "      <td>120</td>\n",
              "      <td>ASP.NET Site Maps</td>\n",
              "      <td>Has anyone got experience creating SQL-based A...</td>\n",
              "    </tr>\n",
              "    <tr>\n",
              "      <th>3</th>\n",
              "      <td>180</td>\n",
              "      <td>Function for creating color wheels</td>\n",
              "      <td>This is something I've pseudo-solved many time...</td>\n",
              "    </tr>\n",
              "    <tr>\n",
              "      <th>4</th>\n",
              "      <td>260</td>\n",
              "      <td>Adding scripting functionality to .NET applica...</td>\n",
              "      <td>I have a little game written in C#. It uses a ...</td>\n",
              "    </tr>\n",
              "  </tbody>\n",
              "</table>\n",
              "</div>"
            ],
            "text/plain": [
              "    Id  ...                                               Body\n",
              "0   80  ...  I've written a database generation script in S...\n",
              "1   90  ...  Are there any really good tutorials explaining...\n",
              "2  120  ...  Has anyone got experience creating SQL-based A...\n",
              "3  180  ...  This is something I've pseudo-solved many time...\n",
              "4  260  ...  I have a little game written in C#. It uses a ...\n",
              "\n",
              "[5 rows x 3 columns]"
            ]
          },
          "metadata": {
            "tags": []
          },
          "execution_count": 21
        }
      ]
    },
    {
      "cell_type": "code",
      "metadata": {
        "id": "M5bVNFrWLqmX",
        "colab_type": "code",
        "outputId": "7746e5df-d56e-4b00-bfe4-940534a6ad4d",
        "colab": {
          "base_uri": "https://localhost:8080/",
          "height": 212
        }
      },
      "source": [
        "total=pd.merge(ques, df,on='Id')\n",
        "print(total.shape)\n",
        "total.head()"
      ],
      "execution_count": 0,
      "outputs": [
        {
          "output_type": "stream",
          "text": [
            "(706336, 4)\n"
          ],
          "name": "stdout"
        },
        {
          "output_type": "execute_result",
          "data": {
            "text/html": [
              "<div>\n",
              "<style scoped>\n",
              "    .dataframe tbody tr th:only-of-type {\n",
              "        vertical-align: middle;\n",
              "    }\n",
              "\n",
              "    .dataframe tbody tr th {\n",
              "        vertical-align: top;\n",
              "    }\n",
              "\n",
              "    .dataframe thead th {\n",
              "        text-align: right;\n",
              "    }\n",
              "</style>\n",
              "<table border=\"1\" class=\"dataframe\">\n",
              "  <thead>\n",
              "    <tr style=\"text-align: right;\">\n",
              "      <th></th>\n",
              "      <th>Id</th>\n",
              "      <th>Title</th>\n",
              "      <th>Body</th>\n",
              "      <th>Tag</th>\n",
              "    </tr>\n",
              "  </thead>\n",
              "  <tbody>\n",
              "    <tr>\n",
              "      <th>0</th>\n",
              "      <td>260</td>\n",
              "      <td>Adding scripting functionality to .NET applica...</td>\n",
              "      <td>I have a little game written in C#. It uses a ...</td>\n",
              "      <td>[c#]</td>\n",
              "    </tr>\n",
              "    <tr>\n",
              "      <th>1</th>\n",
              "      <td>330</td>\n",
              "      <td>Should I use nested classes in this case?</td>\n",
              "      <td>I am working on a collection of classes used f...</td>\n",
              "      <td>[c++]</td>\n",
              "    </tr>\n",
              "    <tr>\n",
              "      <th>2</th>\n",
              "      <td>650</td>\n",
              "      <td>Automatically update version number</td>\n",
              "      <td>I would like the version property of my applic...</td>\n",
              "      <td>[c#]</td>\n",
              "    </tr>\n",
              "    <tr>\n",
              "      <th>3</th>\n",
              "      <td>930</td>\n",
              "      <td>How do I connect to a database and loop over a...</td>\n",
              "      <td>What's the simplest way to connect and query a...</td>\n",
              "      <td>[c#]</td>\n",
              "    </tr>\n",
              "    <tr>\n",
              "      <th>4</th>\n",
              "      <td>1010</td>\n",
              "      <td>How to get the value of built, encoded ViewState?</td>\n",
              "      <td>I need to grab the base64-encoded representati...</td>\n",
              "      <td>[c#]</td>\n",
              "    </tr>\n",
              "  </tbody>\n",
              "</table>\n",
              "</div>"
            ],
            "text/plain": [
              "     Id  ...    Tag\n",
              "0   260  ...   [c#]\n",
              "1   330  ...  [c++]\n",
              "2   650  ...   [c#]\n",
              "3   930  ...   [c#]\n",
              "4  1010  ...   [c#]\n",
              "\n",
              "[5 rows x 4 columns]"
            ]
          },
          "metadata": {
            "tags": []
          },
          "execution_count": 22
        }
      ]
    },
    {
      "cell_type": "code",
      "metadata": {
        "id": "fSuLuZ7jLqiD",
        "colab_type": "code",
        "outputId": "6027017d-79ed-411c-d9b5-a4aafb8af2ed",
        "colab": {
          "base_uri": "https://localhost:8080/",
          "height": 34
        }
      },
      "source": [
        "from sklearn.model_selection import train_test_split\n",
        "from sklearn.preprocessing import MultiLabelBinarizer\n",
        "from nltk import word_tokenize\n",
        "from keras.preprocessing.text import Tokenizer\n",
        "from keras.preprocessing import sequence\n",
        "from keras.layers import LSTM, Activation, Dense, Dropout, Input, Embedding, BatchNormalization, GRU ,concatenate\n",
        "from keras.models import Model\n",
        "\n"
      ],
      "execution_count": 0,
      "outputs": [
        {
          "output_type": "stream",
          "text": [
            "Using TensorFlow backend.\n"
          ],
          "name": "stderr"
        }
      ]
    },
    {
      "cell_type": "code",
      "metadata": {
        "id": "h_xfhEeSLqgj",
        "colab_type": "code",
        "colab": {}
      },
      "source": [
        "multilabel_binarizer = MultiLabelBinarizer()\n",
        "multilabel_binarizer.fit(total.Tag)\n",
        "labels = multilabel_binarizer.classes_"
      ],
      "execution_count": 0,
      "outputs": []
    },
    {
      "cell_type": "code",
      "metadata": {
        "id": "zmY2eBKuLqb9",
        "colab_type": "code",
        "colab": {}
      },
      "source": [
        "train,test=train_test_split(total,test_size=0.25,random_state=24)"
      ],
      "execution_count": 0,
      "outputs": []
    },
    {
      "cell_type": "code",
      "metadata": {
        "id": "uvWgBSmXUpSC",
        "colab_type": "code",
        "outputId": "5f697fdb-11ef-4aac-f3af-60d1591e939d",
        "colab": {
          "base_uri": "https://localhost:8080/",
          "height": 34
        }
      },
      "source": [
        "train.shape,test.shape"
      ],
      "execution_count": 0,
      "outputs": [
        {
          "output_type": "execute_result",
          "data": {
            "text/plain": [
              "((529752, 4), (176584, 4))"
            ]
          },
          "metadata": {
            "tags": []
          },
          "execution_count": 26
        }
      ]
    },
    {
      "cell_type": "code",
      "metadata": {
        "id": "Yvg7veUaLqaD",
        "colab_type": "code",
        "colab": {}
      },
      "source": [
        "X_train_t=train['Title']\n",
        "X_train_b=train['Body']\n",
        "y_train=multilabel_binarizer.transform(train['Tag'])\n",
        "X_test_t=test['Title']\n",
        "X_test_b=test['Body']\n",
        "y_test=multilabel_binarizer.transform(test['Tag'])"
      ],
      "execution_count": 0,
      "outputs": []
    },
    {
      "cell_type": "code",
      "metadata": {
        "id": "wuEovU_bWJRv",
        "colab_type": "code",
        "outputId": "f2a84d80-16d1-46e2-c5f4-bee37ddc39fb",
        "colab": {
          "base_uri": "https://localhost:8080/",
          "height": 67
        }
      },
      "source": [
        "import nltk\n",
        "nltk.download('punkt')"
      ],
      "execution_count": 0,
      "outputs": [
        {
          "output_type": "stream",
          "text": [
            "[nltk_data] Downloading package punkt to /root/nltk_data...\n",
            "[nltk_data]   Package punkt is already up-to-date!\n"
          ],
          "name": "stdout"
        },
        {
          "output_type": "execute_result",
          "data": {
            "text/plain": [
              "True"
            ]
          },
          "metadata": {
            "tags": []
          },
          "execution_count": 28
        }
      ]
    },
    {
      "cell_type": "markdown",
      "metadata": {
        "id": "fe0udvXza6mI",
        "colab_type": "text"
      },
      "source": [
        "# **Title Tokenize**"
      ]
    },
    {
      "cell_type": "code",
      "metadata": {
        "id": "G4DcorvcVkim",
        "colab_type": "code",
        "outputId": "068e7bcd-7874-41db-92a5-0d9360a60588",
        "colab": {
          "base_uri": "https://localhost:8080/",
          "height": 34
        }
      },
      "source": [
        "sent_lens_title=[]\n",
        "for sent in train['Title']:\n",
        "    sent_lens_title.append(len(word_tokenize(sent)))\n",
        "max(sent_lens_title)"
      ],
      "execution_count": 0,
      "outputs": [
        {
          "output_type": "execute_result",
          "data": {
            "text/plain": [
              "59"
            ]
          },
          "metadata": {
            "tags": []
          },
          "execution_count": 29
        }
      ]
    },
    {
      "cell_type": "code",
      "metadata": {
        "id": "MBbNJu0_VkrT",
        "colab_type": "code",
        "outputId": "559679ac-8745-4c53-b60d-a719f77525da",
        "colab": {
          "base_uri": "https://localhost:8080/",
          "height": 34
        }
      },
      "source": [
        "np.quantile(sent_lens_title,0.97)"
      ],
      "execution_count": 0,
      "outputs": [
        {
          "output_type": "execute_result",
          "data": {
            "text/plain": [
              "18.0"
            ]
          },
          "metadata": {
            "tags": []
          },
          "execution_count": 30
        }
      ]
    },
    {
      "cell_type": "code",
      "metadata": {
        "id": "cWimwkLGVkvF",
        "colab_type": "code",
        "colab": {}
      },
      "source": [
        "max_len_title = 18\n",
        "tok = Tokenizer(char_level=False,split=' ')\n",
        "tok.fit_on_texts(X_train_t)\n",
        "seq_train_t = tok.texts_to_sequences(X_train_t)"
      ],
      "execution_count": 0,
      "outputs": []
    },
    {
      "cell_type": "code",
      "metadata": {
        "id": "oCyls_GzVk8r",
        "colab_type": "code",
        "outputId": "2ceb15dd-262b-430c-91f4-63846c18d8fd",
        "colab": {
          "base_uri": "https://localhost:8080/",
          "height": 34
        }
      },
      "source": [
        "vocab_len_t=len(tok.index_word.keys())\n",
        "vocab_len_t"
      ],
      "execution_count": 0,
      "outputs": [
        {
          "output_type": "execute_result",
          "data": {
            "text/plain": [
              "82593"
            ]
          },
          "metadata": {
            "tags": []
          },
          "execution_count": 32
        }
      ]
    },
    {
      "cell_type": "code",
      "metadata": {
        "id": "6pXnxGtmVlHH",
        "colab_type": "code",
        "outputId": "ed9f104a-4855-449a-dd6b-0b6d793c50a9",
        "colab": {
          "base_uri": "https://localhost:8080/",
          "height": 134
        }
      },
      "source": [
        "seq_matrix_train_t = sequence.pad_sequences(seq_train_t,maxlen=max_len_title)\n",
        "seq_matrix_train_t"
      ],
      "execution_count": 0,
      "outputs": [
        {
          "output_type": "execute_result",
          "data": {
            "text/plain": [
              "array([[    0,     0,     0, ...,    39, 13295, 35156],\n",
              "       [    0,     0,     0, ...,   435,   326,    23],\n",
              "       [    0,     0,     0, ...,   620,    14,  3998],\n",
              "       ...,\n",
              "       [    0,     0,     0, ...,    10,    74,  2835],\n",
              "       [    0,     0,     0, ...,     2,    18,    81],\n",
              "       [    0,     0,     0, ..., 14559,   794,   245]], dtype=int32)"
            ]
          },
          "metadata": {
            "tags": []
          },
          "execution_count": 33
        }
      ]
    },
    {
      "cell_type": "code",
      "metadata": {
        "id": "siccN7JBVlTk",
        "colab_type": "code",
        "colab": {}
      },
      "source": [
        "seq_test_t = tok.texts_to_sequences(X_test_t)\n",
        "seq_matrix_test_t = sequence.pad_sequences(seq_test_t,maxlen=max_len_title)"
      ],
      "execution_count": 0,
      "outputs": []
    },
    {
      "cell_type": "code",
      "metadata": {
        "id": "-W9D-rijVlZO",
        "colab_type": "code",
        "outputId": "16608093-c446-4aad-f7de-d180d0d561a2",
        "colab": {
          "base_uri": "https://localhost:8080/",
          "height": 34
        }
      },
      "source": [
        "seq_matrix_train_t.shape,seq_matrix_test_t.shape,y_train.shape,y_test.shape"
      ],
      "execution_count": 0,
      "outputs": [
        {
          "output_type": "execute_result",
          "data": {
            "text/plain": [
              "((529752, 18), (176584, 18), (529752, 10), (176584, 10))"
            ]
          },
          "metadata": {
            "tags": []
          },
          "execution_count": 35
        }
      ]
    },
    {
      "cell_type": "markdown",
      "metadata": {
        "id": "C6NIupfoaeai",
        "colab_type": "text"
      },
      "source": [
        "# **Body Tokenize**"
      ]
    },
    {
      "cell_type": "code",
      "metadata": {
        "id": "3fWqN57CVlRW",
        "colab_type": "code",
        "colab": {}
      },
      "source": [
        "sent_lens_b=[]\n",
        "for sent in train['Body']:\n",
        "    sent_lens_b.append(len(word_tokenize(sent)))\n",
        "max(sent_lens_b)"
      ],
      "execution_count": 0,
      "outputs": []
    },
    {
      "cell_type": "code",
      "metadata": {
        "id": "fCSN1ipHVlPY",
        "colab_type": "code",
        "colab": {}
      },
      "source": [
        "np.quantile(sent_lens_b,0.93)"
      ],
      "execution_count": 0,
      "outputs": []
    },
    {
      "cell_type": "code",
      "metadata": {
        "id": "gpyjn1sIVlNj",
        "colab_type": "code",
        "colab": {}
      },
      "source": [
        "max_len_b = 600\n",
        "tok = Tokenizer(char_level=False,split=' ')\n",
        "tok.fit_on_texts(X_train_b)\n",
        "sequences_train_b = tok.texts_to_sequences(X_train_b)"
      ],
      "execution_count": 0,
      "outputs": []
    },
    {
      "cell_type": "code",
      "metadata": {
        "id": "kzGGB7P2VlMI",
        "colab_type": "code",
        "outputId": "a52d4474-1c69-46b7-9d25-48680165f838",
        "colab": {
          "base_uri": "https://localhost:8080/",
          "height": 34
        }
      },
      "source": [
        "vocab_len_b =len(tok.index_word.keys())\n",
        "vocab_len_b"
      ],
      "execution_count": 0,
      "outputs": [
        {
          "output_type": "execute_result",
          "data": {
            "text/plain": [
              "1655486"
            ]
          },
          "metadata": {
            "tags": []
          },
          "execution_count": 39
        }
      ]
    },
    {
      "cell_type": "code",
      "metadata": {
        "id": "oWZHEzKNVlKY",
        "colab_type": "code",
        "outputId": "b9684af6-c278-45d8-8066-f5b1601fba9a",
        "colab": {
          "base_uri": "https://localhost:8080/",
          "height": 134
        }
      },
      "source": [
        "sequences_matrix_train_b = sequence.pad_sequences(sequences_train_b,maxlen=max_len_b)\n",
        "sequences_matrix_train_b"
      ],
      "execution_count": 0,
      "outputs": [
        {
          "output_type": "execute_result",
          "data": {
            "text/plain": [
              "array([[     0,      0,      0, ...,    394,   2876, 881084],\n",
              "       [     0,      0,      0, ...,      2,     56, 126139],\n",
              "       [     0,      0,      0, ...,      9,   3514,   3577],\n",
              "       ...,\n",
              "       [     0,      0,      0, ...,     24,     72,    738],\n",
              "       [     0,      0,      0, ...,    202,     62,     10],\n",
              "       [     0,      0,      0, ...,    182,    203,     10]], dtype=int32)"
            ]
          },
          "metadata": {
            "tags": []
          },
          "execution_count": 40
        }
      ]
    },
    {
      "cell_type": "code",
      "metadata": {
        "id": "3Qozy0AuVlE7",
        "colab_type": "code",
        "colab": {}
      },
      "source": [
        "sequences_test_b = tok.texts_to_sequences(X_test_b)\n",
        "sequences_matrix_test_b = sequence.pad_sequences(sequences_test_b,maxlen=max_len_b)"
      ],
      "execution_count": 0,
      "outputs": []
    },
    {
      "cell_type": "code",
      "metadata": {
        "id": "wwTzQkRqVlDt",
        "colab_type": "code",
        "outputId": "29713f2f-5847-4496-b3bf-2eaec8d47c40",
        "colab": {
          "base_uri": "https://localhost:8080/",
          "height": 34
        }
      },
      "source": [
        "seq_matrix_train_t.shape,sequences_matrix_train_b.shape,y_train.shape"
      ],
      "execution_count": 0,
      "outputs": [
        {
          "output_type": "execute_result",
          "data": {
            "text/plain": [
              "((529752, 18), (529752, 600), (529752, 10))"
            ]
          },
          "metadata": {
            "tags": []
          },
          "execution_count": 42
        }
      ]
    },
    {
      "cell_type": "code",
      "metadata": {
        "id": "OHBT3celVlCt",
        "colab_type": "code",
        "outputId": "580797b3-28ca-4109-c200-71302004afe4",
        "colab": {
          "base_uri": "https://localhost:8080/",
          "height": 34
        }
      },
      "source": [
        "seq_matrix_test_t.shape,sequences_matrix_test_b.shape,y_test.shape"
      ],
      "execution_count": 0,
      "outputs": [
        {
          "output_type": "execute_result",
          "data": {
            "text/plain": [
              "((176584, 18), (176584, 600), (176584, 10))"
            ]
          },
          "metadata": {
            "tags": []
          },
          "execution_count": 43
        }
      ]
    },
    {
      "cell_type": "code",
      "metadata": {
        "id": "BULUSGeXttve",
        "colab_type": "code",
        "colab": {}
      },
      "source": [
        ""
      ],
      "execution_count": 0,
      "outputs": []
    },
    {
      "cell_type": "code",
      "metadata": {
        "id": "KDDOfu6TVlBS",
        "colab_type": "code",
        "colab": {}
      },
      "source": [
        "def RNN():\n",
        "    \n",
        "    title_input = Input(name='title_input',shape=[max_len_title])\n",
        "    title_Embed = Embedding(vocab_len_t+1,1000,input_length=max_len_title,mask_zero=True,name='title_Embed')(title_input)\n",
        "    gru_out_t = GRU(200)(title_Embed)\n",
        "    \n",
        "    auxiliary_output = Dense(10, activation='sigmoid', name='aux_output')(gru_out_t)   \n",
        "    \n",
        "    \n",
        "    body_input = Input(name='body_input',shape=[max_len_b]) \n",
        "    body_Embed = Embedding(vocab_len_b+1,250,input_length=max_len_b,mask_zero=True,name='body_Embed')(body_input)\n",
        "    gru_out_b = GRU(100)(body_Embed)\n",
        "    \n",
        "    \n",
        "    com = concatenate([gru_out_t, gru_out_b])\n",
        "    \n",
        "    \n",
        "    dense1 = Dense(100,activation='relu')(com)\n",
        "    dp1 = Dropout(0.5)(dense1)\n",
        "    bn = BatchNormalization()(dp1) \n",
        "    dense2 = Dense(50,activation='relu')(bn)\n",
        "    \n",
        "    main_output = Dense(10, activation='sigmoid', name='main_output')(dense2)\n",
        "    \n",
        "    model = Model(inputs=[title_input, body_input],outputs=[main_output, auxiliary_output])\n",
        "    return model"
      ],
      "execution_count": 0,
      "outputs": []
    },
    {
      "cell_type": "markdown",
      "metadata": {
        "id": "FIaN-H8KKwsi",
        "colab_type": "text"
      },
      "source": [
        "# New Section"
      ]
    },
    {
      "cell_type": "code",
      "metadata": {
        "id": "vIgQpnfZVk6x",
        "colab_type": "code",
        "outputId": "a1a58bb8-cfdb-4e30-ea6f-a96bd86888a3",
        "colab": {
          "base_uri": "https://localhost:8080/",
          "height": 605
        }
      },
      "source": [
        "model = RNN()\n",
        "model.summary()"
      ],
      "execution_count": 0,
      "outputs": [
        {
          "output_type": "stream",
          "text": [
            "Model: \"model_2\"\n",
            "__________________________________________________________________________________________________\n",
            "Layer (type)                    Output Shape         Param #     Connected to                     \n",
            "==================================================================================================\n",
            "title_input (InputLayer)        (None, 18)           0                                            \n",
            "__________________________________________________________________________________________________\n",
            "body_input (InputLayer)         (None, 600)          0                                            \n",
            "__________________________________________________________________________________________________\n",
            "title_Embed (Embedding)         (None, 18, 1000)     82594000    title_input[0][0]                \n",
            "__________________________________________________________________________________________________\n",
            "body_Embed (Embedding)          (None, 600, 250)     413871750   body_input[0][0]                 \n",
            "__________________________________________________________________________________________________\n",
            "gru_3 (GRU)                     (None, 200)          720600      title_Embed[0][0]                \n",
            "__________________________________________________________________________________________________\n",
            "gru_4 (GRU)                     (None, 100)          105300      body_Embed[0][0]                 \n",
            "__________________________________________________________________________________________________\n",
            "concatenate_2 (Concatenate)     (None, 300)          0           gru_3[0][0]                      \n",
            "                                                                 gru_4[0][0]                      \n",
            "__________________________________________________________________________________________________\n",
            "dense_3 (Dense)                 (None, 100)          30100       concatenate_2[0][0]              \n",
            "__________________________________________________________________________________________________\n",
            "dropout_2 (Dropout)             (None, 100)          0           dense_3[0][0]                    \n",
            "__________________________________________________________________________________________________\n",
            "batch_normalization_2 (BatchNor (None, 100)          400         dropout_2[0][0]                  \n",
            "__________________________________________________________________________________________________\n",
            "dense_4 (Dense)                 (None, 50)           5050        batch_normalization_2[0][0]      \n",
            "__________________________________________________________________________________________________\n",
            "main_output (Dense)             (None, 10)           510         dense_4[0][0]                    \n",
            "__________________________________________________________________________________________________\n",
            "aux_output (Dense)              (None, 10)           2010        gru_3[0][0]                      \n",
            "==================================================================================================\n",
            "Total params: 497,329,720\n",
            "Trainable params: 497,329,520\n",
            "Non-trainable params: 200\n",
            "__________________________________________________________________________________________________\n"
          ],
          "name": "stdout"
        }
      ]
    },
    {
      "cell_type": "code",
      "metadata": {
        "id": "FB3SQI5qVk40",
        "colab_type": "code",
        "colab": {}
      },
      "source": [
        "model.compile(optimizer='adam',loss={'main_output': 'binary_crossentropy', 'aux_output': 'binary_crossentropy'},\n",
        "              metrics=['accuracy'])"
      ],
      "execution_count": 0,
      "outputs": []
    },
    {
      "cell_type": "code",
      "metadata": {
        "id": "B868bb_gVk27",
        "colab_type": "code",
        "outputId": "f5f74e0e-f3d2-4777-850b-a4295b46a422",
        "colab": {
          "base_uri": "https://localhost:8080/",
          "height": 154
        }
      },
      "source": [
        "results=model.fit({'title_input': seq_matrix_train_t, 'body_input': sequences_matrix_train_b},\n",
        "          {'main_output': y_train, 'aux_output': y_train},\n",
        "          validation_data=[{'title_input': seq_matrix_test_t, 'body_input': sequences_matrix_test_b},\n",
        "          {'main_output': y_test, 'aux_output': y_test}],\n",
        "          epochs=2, batch_size=500)"
      ],
      "execution_count": 0,
      "outputs": [
        {
          "output_type": "stream",
          "text": [
            "/usr/local/lib/python3.6/dist-packages/tensorflow/python/framework/indexed_slices.py:434: UserWarning: Converting sparse IndexedSlices to a dense Tensor of unknown shape. This may consume a large amount of memory.\n",
            "  \"Converting sparse IndexedSlices to a dense Tensor of unknown shape. \"\n"
          ],
          "name": "stderr"
        },
        {
          "output_type": "stream",
          "text": [
            "Train on 529752 samples, validate on 176584 samples\n",
            "Epoch 1/2\n",
            "529752/529752 [==============================] - 6311s 12ms/step - loss: 0.3234 - main_output_loss: 0.1486 - aux_output_loss: 0.1748 - main_output_accuracy: 0.9442 - aux_output_accuracy: 0.9370 - val_loss: 0.2244 - val_main_output_loss: 0.0889 - val_aux_output_loss: 0.1355 - val_main_output_accuracy: 0.9671 - val_aux_output_accuracy: 0.9488\n",
            "Epoch 2/2\n",
            "529752/529752 [==============================] - 5994s 11ms/step - loss: 0.2063 - main_output_loss: 0.0842 - aux_output_loss: 0.1221 - main_output_accuracy: 0.9694 - aux_output_accuracy: 0.9533 - val_loss: 0.2115 - val_main_output_loss: 0.0784 - val_aux_output_loss: 0.1331 - val_main_output_accuracy: 0.9706 - val_aux_output_accuracy: 0.9495\n"
          ],
          "name": "stdout"
        }
      ]
    },
    {
      "cell_type": "code",
      "metadata": {
        "id": "tLSVw6zDVkz0",
        "colab_type": "code",
        "colab": {}
      },
      "source": [
        "results"
      ],
      "execution_count": 0,
      "outputs": []
    },
    {
      "cell_type": "code",
      "metadata": {
        "id": "jRKbudx0VkyR",
        "colab_type": "code",
        "outputId": "4eac928d-81e8-4a30-d8ab-94e0197dfb34",
        "colab": {
          "base_uri": "https://localhost:8080/",
          "height": 34
        }
      },
      "source": [
        "(predicted_main, predicted_aux)=model.predict({'title_input': seq_matrix_test_t, 'body_input': sequences_matrix_test_b},verbose=1)\n"
      ],
      "execution_count": 0,
      "outputs": [
        {
          "output_type": "stream",
          "text": [
            "176584/176584 [==============================] - 898s 5ms/step\n"
          ],
          "name": "stdout"
        }
      ]
    },
    {
      "cell_type": "code",
      "metadata": {
        "id": "PpuPCzCkVkni",
        "colab_type": "code",
        "colab": {}
      },
      "source": [
        "predicted_main[1:10]"
      ],
      "execution_count": 0,
      "outputs": []
    },
    {
      "cell_type": "code",
      "metadata": {
        "id": "RyrBYGmPIpMu",
        "colab_type": "code",
        "colab": {}
      },
      "source": [
        "from sklearn.metrics import classification_report,f1_score,roc_auc_score"
      ],
      "execution_count": 0,
      "outputs": []
    },
    {
      "cell_type": "code",
      "metadata": {
        "id": "WwVOALNiIpQ3",
        "colab_type": "code",
        "outputId": "ba14da75-e404-495b-a02f-4bb435139b3c",
        "colab": {
          "base_uri": "https://localhost:8080/",
          "height": 34
        }
      },
      "source": [
        "print(f1_score(y_test,predicted_main>.55,average='samples'))"
      ],
      "execution_count": 0,
      "outputs": [
        {
          "output_type": "stream",
          "text": [
            "0.8765240824277882\n"
          ],
          "name": "stdout"
        }
      ]
    },
    {
      "cell_type": "code",
      "metadata": {
        "id": "bmuUrfcTBEMb",
        "colab_type": "code",
        "outputId": "eba2b0d1-2c74-4cc7-ae26-4c45b20f2755",
        "colab": {
          "base_uri": "https://localhost:8080/",
          "height": 34
        }
      },
      "source": [
        "print(roc_auc_score(y_test,predicted_main))"
      ],
      "execution_count": 0,
      "outputs": [
        {
          "output_type": "stream",
          "text": [
            "0.985100743453701\n"
          ],
          "name": "stdout"
        }
      ]
    },
    {
      "cell_type": "code",
      "metadata": {
        "id": "FebWumOCCHm_",
        "colab_type": "code",
        "outputId": "906b751f-284f-465b-8f8b-5b8cf886c90f",
        "colab": {
          "base_uri": "https://localhost:8080/",
          "height": 373
        }
      },
      "source": [
        "print(classification_report(y_test,predicted_main>0.55))"
      ],
      "execution_count": 0,
      "outputs": [
        {
          "output_type": "stream",
          "text": [
            "              precision    recall  f1-score   support\n",
            "\n",
            "           0       0.97      0.93      0.95     22702\n",
            "           1       0.93      0.88      0.90     25377\n",
            "           2       0.91      0.86      0.88     11810\n",
            "           3       0.85      0.41      0.56     14809\n",
            "           4       0.96      0.92      0.94     11619\n",
            "           5       0.94      0.82      0.87     28612\n",
            "           6       0.86      0.73      0.79     31091\n",
            "           7       0.84      0.79      0.81     19641\n",
            "           8       0.95      0.90      0.92     24507\n",
            "           9       0.97      0.95      0.96     16161\n",
            "\n",
            "   micro avg       0.92      0.82      0.87    206329\n",
            "   macro avg       0.92      0.82      0.86    206329\n",
            "weighted avg       0.92      0.82      0.86    206329\n",
            " samples avg       0.91      0.87      0.88    206329\n",
            "\n"
          ],
          "name": "stdout"
        },
        {
          "output_type": "stream",
          "text": [
            "/usr/local/lib/python3.6/dist-packages/sklearn/metrics/_classification.py:1272: UndefinedMetricWarning: Precision and F-score are ill-defined and being set to 0.0 in samples with no predicted labels. Use `zero_division` parameter to control this behavior.\n",
            "  _warn_prf(average, modifier, msg_start, len(result))\n"
          ],
          "name": "stderr"
        }
      ]
    },
    {
      "cell_type": "code",
      "metadata": {
        "id": "j8NC5wq-Jmwk",
        "colab_type": "code",
        "outputId": "904801f1-751d-4a85-df80-96f3e47c9f30",
        "colab": {
          "base_uri": "https://localhost:8080/",
          "height": 34
        }
      },
      "source": [
        "predicted_main[1024].round(decimals = 2)"
      ],
      "execution_count": 0,
      "outputs": [
        {
          "output_type": "execute_result",
          "data": {
            "text/plain": [
              "array([0., 1., 0., 0., 0., 0., 0., 0., 0., 0.], dtype=float32)"
            ]
          },
          "metadata": {
            "tags": []
          },
          "execution_count": 67
        }
      ]
    },
    {
      "cell_type": "code",
      "metadata": {
        "id": "20ifL3BeJ_Nt",
        "colab_type": "code",
        "outputId": "a26b6d48-7ae0-4933-8ad8-b8fefc665e67",
        "colab": {
          "base_uri": "https://localhost:8080/",
          "height": 101
        }
      },
      "source": [
        "test.iloc[1024]"
      ],
      "execution_count": 0,
      "outputs": [
        {
          "output_type": "execute_result",
          "data": {
            "text/plain": [
              "Id                                                22201820\n",
              "Title    Redirect page in web.config for a certain exce...\n",
              "Body     I have a MVC solution, which works with author...\n",
              "Tag                                                   [c#]\n",
              "Name: 353422, dtype: object"
            ]
          },
          "metadata": {
            "tags": []
          },
          "execution_count": 66
        }
      ]
    },
    {
      "cell_type": "code",
      "metadata": {
        "id": "7BE5V1leI8dh",
        "colab_type": "code",
        "outputId": "14414ab2-e2a6-46fb-e7e7-d8c22e2fef7c",
        "colab": {
          "base_uri": "https://localhost:8080/",
          "height": 50
        }
      },
      "source": [
        "labels"
      ],
      "execution_count": 0,
      "outputs": [
        {
          "output_type": "execute_result",
          "data": {
            "text/plain": [
              "array(['android', 'c#', 'c++', 'html', 'ios', 'java', 'javascript',\n",
              "       'jquery', 'php', 'python'], dtype=object)"
            ]
          },
          "metadata": {
            "tags": []
          },
          "execution_count": 68
        }
      ]
    },
    {
      "cell_type": "code",
      "metadata": {
        "id": "v4K5vtoBC9WE",
        "colab_type": "code",
        "colab": {}
      },
      "source": [
        "model.save('./tags.h5')"
      ],
      "execution_count": 0,
      "outputs": []
    }
  ]
}